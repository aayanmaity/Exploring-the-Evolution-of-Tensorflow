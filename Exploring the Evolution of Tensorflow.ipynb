{
 "cells": [
  {
   "cell_type": "markdown",
   "metadata": {},
   "source": [
    "# Introduction\n",
    "\n",
    "Version control repositories like CVS, Subversion or Git can be a real gold mine for software developers. They contain every change to the source code including the date (the \"when\"), the responsible developer (the \"who\"), as well as a little message that describes the intention (the \"what\") of a change.\n",
    "\n",
    "In this notebook, we will analyze the evolution of `Tensorflow`. \n",
    "\n",
    "![](files/tensorflow_new.png)  \n",
    "\n",
    "Tensorflow is one of the widely used libraries for implementing Machine learning and Deep Learning algorithms involving large number of mathematical operations. Tensorflow was developed by Google and it’s one of the most popular Machine Learning libraries on GitHub. Our dataset at hand contains the history of tensorflow development of 5 years (late 2015 - mid 2021). We get some insights into the work of the development efforts by -\n",
    "\n",
    " * Identifying the TOP 10 contributors.\n",
    "\n",
    "* Visualizing the commits over the years."
   ]
  },
  {
   "cell_type": "markdown",
   "metadata": {},
   "source": [
    "# Reading in the dataset"
   ]
  },
  {
   "cell_type": "markdown",
   "metadata": {},
   "source": [
    "The dataset was created by using the command `git log --encoding=latin-1 --pretty=\"%at#%aN\"` in May 2021. The `latin-1` encoded text output was saved in a header-less CSV file. In this file, each row is a commit entry with the following information:\n",
    "\n",
    "* `timestamp`: the time of the commit as a UNIX timestamp in seconds since 1970-01-01 00:00:00 (Git log placeholder `\"%at\"`)\n",
    "* `author`: the name of the author that performed the commit (Git log placeholder `\"%aN\"`)\n",
    "\n",
    "The columns are separated by the number sign `#`. \n",
    "\n",
    "The complete dataset is in the datasets/ directory. It is a csv file named `tensor_log.csv`."
   ]
  },
  {
   "cell_type": "code",
   "execution_count": 1,
   "metadata": {},
   "outputs": [
    {
     "data": {
      "text/html": [
       "<div>\n",
       "<style scoped>\n",
       "    .dataframe tbody tr th:only-of-type {\n",
       "        vertical-align: middle;\n",
       "    }\n",
       "\n",
       "    .dataframe tbody tr th {\n",
       "        vertical-align: top;\n",
       "    }\n",
       "\n",
       "    .dataframe thead th {\n",
       "        text-align: right;\n",
       "    }\n",
       "</style>\n",
       "<table border=\"1\" class=\"dataframe\">\n",
       "  <thead>\n",
       "    <tr style=\"text-align: right;\">\n",
       "      <th></th>\n",
       "      <th>timestamp</th>\n",
       "      <th>author</th>\n",
       "    </tr>\n",
       "  </thead>\n",
       "  <tbody>\n",
       "    <tr>\n",
       "      <th>0</th>\n",
       "      <td>1621616255</td>\n",
       "      <td>A. Unique TensorFlower</td>\n",
       "    </tr>\n",
       "    <tr>\n",
       "      <th>1</th>\n",
       "      <td>1621616637</td>\n",
       "      <td>TensorFlower Gardener</td>\n",
       "    </tr>\n",
       "    <tr>\n",
       "      <th>2</th>\n",
       "      <td>1621615550</td>\n",
       "      <td>Peter Hawkins</td>\n",
       "    </tr>\n",
       "    <tr>\n",
       "      <th>3</th>\n",
       "      <td>1621614591</td>\n",
       "      <td>Denis Vnukov</td>\n",
       "    </tr>\n",
       "    <tr>\n",
       "      <th>4</th>\n",
       "      <td>1621614845</td>\n",
       "      <td>TensorFlower Gardener</td>\n",
       "    </tr>\n",
       "  </tbody>\n",
       "</table>\n",
       "</div>"
      ],
      "text/plain": [
       "    timestamp                  author\n",
       "0  1621616255  A. Unique TensorFlower\n",
       "1  1621616637   TensorFlower Gardener\n",
       "2  1621615550           Peter Hawkins\n",
       "3  1621614591            Denis Vnukov\n",
       "4  1621614845   TensorFlower Gardener"
      ]
     },
     "execution_count": 1,
     "metadata": {},
     "output_type": "execute_result"
    }
   ],
   "source": [
    "# Loading in the pandas module as 'pd'\n",
    "import pandas as pd\n",
    "\n",
    "# Reading in the log file\n",
    "tensor_log = pd.read_csv(\n",
    "    'Tensorflowhistory.csv',\n",
    "    sep='#',\n",
    "    encoding='latin-1',\n",
    "    header=None,\n",
    "    names=['timestamp', 'author']\n",
    ")\n",
    "\n",
    "# Printing the first 5 rows\n",
    "tensor_log.head()"
   ]
  },
  {
   "cell_type": "markdown",
   "metadata": {},
   "source": [
    "# Getting an overview\n",
    "\n",
    "The dataset contains the information about every single code contribution (a \"commit\") to Tensorflow library over the last 5 years. We'll first take a look at the number of authors and their commits to the repository."
   ]
  },
  {
   "cell_type": "code",
   "execution_count": 2,
   "metadata": {},
   "outputs": [
    {
     "name": "stdout",
     "output_type": "stream",
     "text": [
      "3470 authors committed 111084 code changes.\n"
     ]
    }
   ],
   "source": [
    "# calculating number of commits\n",
    "number_of_commits = len(tensor_log)\n",
    "\n",
    "# calculating number of authors\n",
    "number_of_authors = len(tensor_log['author'].dropna().unique())\n",
    "\n",
    "# printing out the results\n",
    "print(\"%s authors committed %s code changes.\" % (number_of_authors, number_of_commits))"
   ]
  },
  {
   "cell_type": "markdown",
   "metadata": {},
   "source": [
    "# Finding the TOP 10 contributors\n",
    "\n",
    "There are some very important people that changed Tensorflow library very often. To see if there are any bottlenecks, we take a look at the TOP 10 authors with the most commits."
   ]
  },
  {
   "cell_type": "code",
   "execution_count": 3,
   "metadata": {},
   "outputs": [
    {
     "data": {
      "text/plain": [
       "A. Unique TensorFlower    25882\n",
       "TensorFlower Gardener      5320\n",
       "Yong Tang                  1315\n",
       "Shanqing Cai               1168\n",
       "Derek Murray               1154\n",
       "Gunhan Gulsoy              1133\n",
       "Benoit Steiner             1046\n",
       "Vijay Vasudevan            1039\n",
       "Peter Hawkins               925\n",
       "River Riddle                886\n",
       "Name: author, dtype: int64"
      ]
     },
     "execution_count": 3,
     "metadata": {},
     "output_type": "execute_result"
    }
   ],
   "source": [
    "# Identifying the top 10 authors\n",
    "top_10_authors = tensor_log['author'].value_counts().head(10)\n",
    "\n",
    "# Listing contents of 'top_10_authors'\n",
    "top_10_authors.head(10)"
   ]
  },
  {
   "cell_type": "markdown",
   "metadata": {},
   "source": [
    "We see that the top contibutor is `A. Unique TensorFlower` & `TensorFlower Gardener`. This is because tensorflow have a unique way on managing open source support, to know more about that here's an article by [oreilly.](https://www.oreilly.com/content/how-the-tensorflow-team-handles-open-source-support/)"
   ]
  },
  {
   "cell_type": "markdown",
   "metadata": {},
   "source": [
    "# Wrangling the data\n",
    "For our analysis, we want to visualize the contributions over time. For this, we use the information in the timestamp column to create a time series-based column."
   ]
  },
  {
   "cell_type": "code",
   "execution_count": 4,
   "metadata": {},
   "outputs": [
    {
     "data": {
      "text/plain": [
       "count                           111084\n",
       "mean     2019-02-04 19:22:48.821190912\n",
       "min                2015-11-07 00:27:58\n",
       "25%                2018-01-26 02:50:39\n",
       "50%         2019-04-16 19:22:16.500000\n",
       "75%      2020-04-07 20:25:38.249999872\n",
       "max                2021-05-21 17:03:57\n",
       "Name: timestamp, dtype: object"
      ]
     },
     "execution_count": 4,
     "metadata": {},
     "output_type": "execute_result"
    }
   ],
   "source": [
    "# converting the timestamp column\n",
    "tensor_log['timestamp'] = pd.to_datetime(tensor_log['timestamp'], unit=\"s\")\n",
    "\n",
    "# summarizing the converted timestamp column\n",
    "tensor_log['timestamp'].describe(datetime_is_numeric=True)"
   ]
  },
  {
   "cell_type": "markdown",
   "metadata": {},
   "source": [
    "# Grouping commits per year\n",
    "To find out how the development activity has increased over time, we'll group the commits by year and count them up."
   ]
  },
  {
   "cell_type": "code",
   "execution_count": 5,
   "metadata": {},
   "outputs": [
    {
     "data": {
      "text/html": [
       "<div>\n",
       "<style scoped>\n",
       "    .dataframe tbody tr th:only-of-type {\n",
       "        vertical-align: middle;\n",
       "    }\n",
       "\n",
       "    .dataframe tbody tr th {\n",
       "        vertical-align: top;\n",
       "    }\n",
       "\n",
       "    .dataframe thead th {\n",
       "        text-align: right;\n",
       "    }\n",
       "</style>\n",
       "<table border=\"1\" class=\"dataframe\">\n",
       "  <thead>\n",
       "    <tr style=\"text-align: right;\">\n",
       "      <th></th>\n",
       "      <th>author</th>\n",
       "    </tr>\n",
       "    <tr>\n",
       "      <th>timestamp</th>\n",
       "      <th></th>\n",
       "    </tr>\n",
       "  </thead>\n",
       "  <tbody>\n",
       "    <tr>\n",
       "      <th>2015-01-01</th>\n",
       "      <td>529</td>\n",
       "    </tr>\n",
       "    <tr>\n",
       "      <th>2016-01-01</th>\n",
       "      <td>12032</td>\n",
       "    </tr>\n",
       "    <tr>\n",
       "      <th>2017-01-01</th>\n",
       "      <td>14047</td>\n",
       "    </tr>\n",
       "    <tr>\n",
       "      <th>2018-01-01</th>\n",
       "      <td>20706</td>\n",
       "    </tr>\n",
       "    <tr>\n",
       "      <th>2019-01-01</th>\n",
       "      <td>28450</td>\n",
       "    </tr>\n",
       "  </tbody>\n",
       "</table>\n",
       "</div>"
      ],
      "text/plain": [
       "            author\n",
       "timestamp         \n",
       "2015-01-01     529\n",
       "2016-01-01   12032\n",
       "2017-01-01   14047\n",
       "2018-01-01   20706\n",
       "2019-01-01   28450"
      ]
     },
     "execution_count": 5,
     "metadata": {},
     "output_type": "execute_result"
    }
   ],
   "source": [
    "# Counting the no. commits per year\n",
    "commits_per_year = tensor_log.groupby(\n",
    "    pd.Grouper(key='timestamp', freq='AS')).count()\n",
    "\n",
    "# Listing the first rows\n",
    "commits_per_year.head()"
   ]
  },
  {
   "cell_type": "markdown",
   "metadata": {},
   "source": [
    "# Visualizing the history of Tensorflow\n",
    "Finally, we'll make a plot out of these counts to better see how the development effort on Linux has increased over the the last few years."
   ]
  },
  {
   "cell_type": "code",
   "execution_count": 6,
   "metadata": {},
   "outputs": [
    {
     "data": {
      "text/plain": [
       "<AxesSubplot:title={'center':'Commits per year (Tensorflow)'}, xlabel='timestamp'>"
      ]
     },
     "execution_count": 6,
     "metadata": {},
     "output_type": "execute_result"
    },
    {
     "data": {
      "image/png": "[encoded data removed]",
      "text/plain": [
       "<Figure size 432x288 with 1 Axes>"
      ]
     },
     "metadata": {
      "needs_background": "light"
     },
     "output_type": "display_data"
    }
   ],
   "source": [
    "# Setting up plotting in Jupyter notebooks\n",
    "%matplotlib inline\n",
    "\n",
    "# plot the data\n",
    "commits_per_year.plot(kind='bar', title=\"Commits per year (Tensorflow)\", legend=False)"
   ]
  },
  {
   "cell_type": "markdown",
   "metadata": {},
   "source": [
    "# Conclusion\n",
    "\n",
    "Thanks to the solid foundation and caretaking of tensorflow team,here is no decrease of development activity at sight!</p>"
   ]
  }
 ],
 "metadata": {
  "kernelspec": {
   "display_name": "Python 3",
   "language": "python",
   "name": "python3"
  },
  "language_info": {
   "codemirror_mode": {
    "name": "ipython",
    "version": 3
   },
   "file_extension": ".py",
   "mimetype": "text/x-python",
   "name": "python",
   "nbconvert_exporter": "python",
   "pygments_lexer": "ipython3",
   "version": "3.8.5"
  }
 },
 "nbformat": 4,
 "nbformat_minor": 4
}
